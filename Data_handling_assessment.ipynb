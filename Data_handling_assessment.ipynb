{
 "cells": [
  {
   "cell_type": "markdown",
   "metadata": {},
   "source": [
    "# Data handling assessment"
   ]
  },
  {
   "cell_type": "code",
   "execution_count": null,
   "metadata": {},
   "outputs": [],
   "source": [
    "from DataGen import *   # generates your data\n",
    "import matplotlib.pyplot as plt ## this has imported matplotlib's pyplot as plt\n",
    "plt.rcParams.update({'font.size': 14, 'figure.figsize': [16, 7]}) # sets better defaults for matplotlib graphs\n",
    "\n",
    "import numpy as np  ## this has imported numpy which you can refer to as np\n",
    "import scipy.stats as stats ## this has importated SciPy's statistics package as stats, you may find this useful.\n",
    "import scipy.signal as signal ## imports the signal processing module as signal\n",
    "import scipy.optimize as fit  ## imports the optimization tool box as fit\n",
    "\n",
    "import glob  # imports the glob module\n",
    "import warnings  # prevents printing of some warnings\n",
    "warnings.filterwarnings('ignore')"
   ]
  },
  {
   "cell_type": "markdown",
   "metadata": {},
   "source": [
    "### Each student has a unique data set to process. \n",
    "> 1) To initailise your unique data set insert your 9 digit student number below as a string i.e. inside the inverted commas and run the cell.\n",
    "\n",
    "The length of ID should be 9\n"
   ]
  },
  {
   "cell_type": "code",
   "execution_count": null,
   "metadata": {},
   "outputs": [],
   "source": [
    "ID = 'replace this text with your student number, leave the inverted commas but do not leave any spaces'\n",
    "print(len(ID))"
   ]
  },
  {
   "cell_type": "markdown",
   "metadata": {},
   "source": [
    "### 1) Loading files\n",
    "- It is useful to be able to load multiple data sets from a folder.\n",
    "\n",
    "> 1) Run the cell below to initialize your data sets, they will appear in the 'Data sets' folder where you launched this notebook from."
   ]
  },
  {
   "cell_type": "code",
   "execution_count": null,
   "metadata": {},
   "outputs": [],
   "source": [
    "dataFolder(ID) ## this creates your data files to process"
   ]
  },
  {
   "cell_type": "markdown",
   "metadata": {},
   "source": [
    "- The data that you want to load is contained in .csv files\n",
    "- Each file contains a single number\n",
    "\n",
    "> 2) Make a sorted list of these csv file names.    \n",
    ">3) Then loop through this list and load each csv file.   \n",
    ">4) On each iteration of the loop print the data you have loaded.    \n",
    "\n"
   ]
  },
  {
   "cell_type": "code",
   "execution_count": null,
   "metadata": {},
   "outputs": [],
   "source": [
    "\n",
    "\n",
    "\n"
   ]
  },
  {
   "cell_type": "markdown",
   "metadata": {},
   "source": [
    "### 2) An experimenter has made an extracellular recording from a nerve and wants to determine the mean firing rate of this nerve.\n",
    "- The sample rate of the recording was 10kHz\n",
    "- The data is recorded in µV\n",
    "- the recording is 5 seconds in length\n",
    "\n",
    "\n",
    "> 1) Run the cell below to generate your nerve data as an array\n"
   ]
  },
  {
   "cell_type": "code",
   "execution_count": null,
   "metadata": {
    "scrolled": false
   },
   "outputs": [],
   "source": [
    "nerve = getSpike(ID) # this loads your data for this task in to the numpy array called 'Nerve'"
   ]
  },
  {
   "cell_type": "markdown",
   "metadata": {},
   "source": [
    ">2) In the cell below plot the nerve recording with the correct time scale.    \n",
    ">3) Detect spikes in this nerve recording.    \n",
    ">4) Then calculate the mean spike rate in Hz and print a description of this information.  "
   ]
  },
  {
   "cell_type": "code",
   "execution_count": null,
   "metadata": {},
   "outputs": [],
   "source": [
    "\n",
    "\n",
    "\n",
    "\n"
   ]
  },
  {
   "cell_type": "markdown",
   "metadata": {},
   "source": [
    "### 3) An experimenter has measured the size of white fat cells and wants to summarise their findings for the whole population of cells\n",
    "- Each data point corresponds to the area of a cell in µm$^2$  \n",
    "\n",
    ">1) Run the cell below to initialize your data set on cell size"
   ]
  },
  {
   "cell_type": "code",
   "execution_count": null,
   "metadata": {
    "scrolled": false
   },
   "outputs": [],
   "source": [
    "CellSize = getCellSize(ID) # this loads your data for this task in to the numpy array called 'CellSize'"
   ]
  },
  {
   "cell_type": "markdown",
   "metadata": {},
   "source": [
    ">2)  Plot a histogram of CellSize with 40 bins.  \n",
    ">3) Then print appropriate summary statistics e.g. mean and SD or median and 25th & 75th percentiles.    \n",
    ">4) Print some text to justify your choice.  "
   ]
  },
  {
   "cell_type": "code",
   "execution_count": null,
   "metadata": {},
   "outputs": [],
   "source": [
    "\n",
    "\n",
    "\n",
    "\n",
    "\n",
    "\n",
    "\n"
   ]
  },
  {
   "cell_type": "markdown",
   "metadata": {},
   "source": [
    "### 4) An experimenter wants to determine whether there is a difference in the transcript abundance of an mRNA between neurons and glial cells. \n",
    "\n",
    "- They have the determined the transcript abundance per cell for a population of neurons and an equally sized population of glial cells. \n",
    "\n",
    ">1) Run the cell below to load your mRNA data"
   ]
  },
  {
   "cell_type": "code",
   "execution_count": null,
   "metadata": {
    "scrolled": true
   },
   "outputs": [],
   "source": [
    "mRNAs = getmRNAs(ID) # this loads your data for this task in to the numpy array called 'mRNAs'"
   ]
  },
  {
   "cell_type": "markdown",
   "metadata": {},
   "source": [
    "- The 1st column of \"mRNAs\" is the data for neurons and the 2nd is contains the data for glial cells\n",
    "- Each row corresponds to the transcript abundance in a single cell\n",
    "\n",
    ">2) Plot a graph showing the histograms of the mRNA transcripts. Use 40 bins for each histogram.    \n",
    ">3) Determine whether there is a difference between this mRNA's expression in neurons and glia.     \n",
    ">4) Print some text justifying your conclusion. "
   ]
  },
  {
   "cell_type": "code",
   "execution_count": null,
   "metadata": {},
   "outputs": [],
   "source": [
    "\n",
    "\n",
    "\n",
    "\n",
    "\n",
    "\n"
   ]
  },
  {
   "cell_type": "markdown",
   "metadata": {},
   "source": [
    "### 5)  An experimenter is measuring the amonia on the breath of a patient having kidney dialysis and wants to determine the time constant of clearance of urea/amonia from the body \n",
    "- Samples were taken every minute\n",
    "- each data point is the concentration of amonia in mg/dl \n",
    "\n",
    ">1) Run the cell below to generate your breath measurements"
   ]
  },
  {
   "cell_type": "code",
   "execution_count": null,
   "metadata": {},
   "outputs": [],
   "source": [
    "breath = getDialysis(ID) # this loads your data for this task in to the numpy array called 'breath'"
   ]
  },
  {
   "cell_type": "markdown",
   "metadata": {},
   "source": [
    ">2) Plot the data as a scatter plot i.e. points for markers rather than lines between points.  \n",
    ">3) Define the appropriate equation to describe clearance from the body.  \n",
    ">4) Fit this equation to your data.    \n",
    "> 5) Determine the time constant of urea clearance and print this with some descriptive text\n",
    "\n"
   ]
  },
  {
   "cell_type": "code",
   "execution_count": null,
   "metadata": {
    "scrolled": false
   },
   "outputs": [],
   "source": [
    "\n",
    "\n",
    "\n",
    "\n",
    "\n"
   ]
  },
  {
   "cell_type": "markdown",
   "metadata": {},
   "source": [
    "### 6) An experimenter has recorded the time of wheel running events and wants to generate a ciradian actogram of this data.\n",
    "\n",
    "![Example of an Actogram](Example_Actogram.png)\n",
    "\n",
    "\n",
    "- The experiemnt ran for 35 days\n",
    "- The time stamps of wheel running were saved to a .csv file with 1 file for each day\n",
    "> 1) Run the cell below to generate you data which will appear in the 'Circadian data' folder"
   ]
  },
  {
   "cell_type": "code",
   "execution_count": null,
   "metadata": {},
   "outputs": [],
   "source": [
    "getCircadian(ID) # this will generate lots of files in the 'Circadian data' folder."
   ]
  },
  {
   "cell_type": "markdown",
   "metadata": {},
   "source": [
    "> 2) Generate a graph similar to the example shown above using the data files in the \"Circadian data\" folder. Hint: use '|' as the markers.  \n",
    "> 3) Judging from your actogram, on what day was the light cycle altered? print your answer with some descriptive text under your graph\n",
    "\n"
   ]
  },
  {
   "cell_type": "code",
   "execution_count": null,
   "metadata": {
    "scrolled": true
   },
   "outputs": [],
   "source": [
    "\n",
    "\n",
    "\n",
    "\n",
    "\n"
   ]
  }
 ],
 "metadata": {
  "kernelspec": {
   "display_name": "Python 3",
   "language": "python",
   "name": "python3"
  },
  "language_info": {
   "codemirror_mode": {
    "name": "ipython",
    "version": 3
   },
   "file_extension": ".py",
   "mimetype": "text/x-python",
   "name": "python",
   "nbconvert_exporter": "python",
   "pygments_lexer": "ipython3",
   "version": "3.7.6"
  },
  "varInspector": {
   "cols": {
    "lenName": 16,
    "lenType": 16,
    "lenVar": 40
   },
   "kernels_config": {
    "python": {
     "delete_cmd_postfix": "",
     "delete_cmd_prefix": "del ",
     "library": "var_list.py",
     "varRefreshCmd": "print(var_dic_list())"
    },
    "r": {
     "delete_cmd_postfix": ") ",
     "delete_cmd_prefix": "rm(",
     "library": "var_list.r",
     "varRefreshCmd": "cat(var_dic_list()) "
    }
   },
   "types_to_exclude": [
    "module",
    "function",
    "builtin_function_or_method",
    "instance",
    "_Feature"
   ],
   "window_display": false
  }
 },
 "nbformat": 4,
 "nbformat_minor": 4
}
